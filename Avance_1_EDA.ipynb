{
 "cells": [
  {
   "cell_type": "markdown",
   "id": "b892b540",
   "metadata": {},
   "source": [
    "### Este notebook contiene la primera fase del proyecto de análisis de datos, enfocada en el Análisis Exploratorio de Datos (EDA) de los conjuntos de datos de usuarios y restaurantes en EE. UU. El objetivo principal de este avance es comprender la estructura de los datos, identificar patrones iniciales, limpiar inconsistencias y preparar la información para fases posteriores."
   ]
  },
  {
   "cell_type": "code",
   "execution_count": 3,
   "id": "ca90c02b",
   "metadata": {},
   "outputs": [],
   "source": [
    "#Importando librerias\n",
    "import numpy as np  \n",
    "import pandas as pd\n",
    "import matplotlib.pyplot as plt\n",
    "import seaborn as sns"
   ]
  },
  {
   "cell_type": "code",
   "execution_count": 4,
   "id": "bd9d7504",
   "metadata": {},
   "outputs": [],
   "source": [
    "# Cargando datos usuarios\n",
    "df_usuarios_usa = pd.read_csv('C:/Users/alex_\\Downloads/base_datos_restaurantes_USA_v2.csv')"
   ]
  },
  {
   "cell_type": "code",
   "execution_count": 5,
   "id": "0a52433a",
   "metadata": {},
   "outputs": [],
   "source": [
    "# Cargando datos restaurantes\n",
    "df_restaurantes_usa = pd.read_csv('C:/Users/alex_\\Downloads/yelp_restaurants.csv')"
   ]
  },
  {
   "cell_type": "markdown",
   "id": "cdd727f1",
   "metadata": {},
   "source": [
    "## Analizando la información proveniente del DataFrame: Restaurantes_USA_v2 --> Usuarios\n",
    "----"
   ]
  },
  {
   "cell_type": "code",
   "execution_count": 6,
   "id": "52b49861",
   "metadata": {},
   "outputs": [
    {
     "name": "stdout",
     "output_type": "stream",
     "text": [
      "   id_persona    nombre apellido  edad     genero ciudad_residencia  \\\n",
      "0  2550327378   Jackson    Gomez  31.0  Masculino             Miami   \n",
      "1  9446112038  Samantha     Soto  40.0   Femenino            Denver   \n",
      "2  3098363243     Terry    Adams  62.0   Femenino            Denver   \n",
      "3  4013002847     James  Shannon  41.0  Masculino            Boston   \n",
      "4  7372911048     Susan    Jones  49.0   Femenino         San Diego   \n",
      "\n",
      "  estrato_socioeconomico  frecuencia_visita  promedio_gasto_comida ocio  \\\n",
      "0                   Alto                  6                  67.51   Sí   \n",
      "1                  Medio                  2                  44.92   Sí   \n",
      "2                   Bajo                  2                   9.24   Sí   \n",
      "3                   Alto                  5                  30.74   Sí   \n",
      "4                   Bajo                  0                   0.00   No   \n",
      "\n",
      "  consume_licor preferencias_alimenticias membresia_premium telefono_contacto  \\\n",
      "0            No               Vegetariano                Sí     (830)220-1926   \n",
      "1            Sí                  Mariscos                No      881-476-1426   \n",
      "2            Sí               Vegetariano                No               NaN   \n",
      "3            Sí                    Carnes                Sí               NaN   \n",
      "4            No                    Carnes                No      243.248.8919   \n",
      "\n",
      "      correo_electronico tipo_de_pago_mas_usado  ingresos_mensuales  \n",
      "0                    NaN               Efectivo                6425  \n",
      "1                    NaN               Efectivo                2374  \n",
      "2    diana74@example.net               Efectivo                1110  \n",
      "3  scottfrey@example.com                Tarjeta                6931  \n",
      "4  glassgary@example.org                Tarjeta                1350  \n"
     ]
    }
   ],
   "source": [
    "#analizando datos\n",
    "print(df_usuarios_usa.head(5))"
   ]
  },
  {
   "cell_type": "code",
   "execution_count": 7,
   "id": "90b46a3b",
   "metadata": {},
   "outputs": [
    {
     "name": "stdout",
     "output_type": "stream",
     "text": [
      "<class 'pandas.core.frame.DataFrame'>\n",
      "RangeIndex: 30000 entries, 0 to 29999\n",
      "Data columns (total 17 columns):\n",
      " #   Column                     Non-Null Count  Dtype  \n",
      "---  ------                     --------------  -----  \n",
      " 0   id_persona                 30000 non-null  int64  \n",
      " 1   nombre                     30000 non-null  object \n",
      " 2   apellido                   30000 non-null  object \n",
      " 3   edad                       29899 non-null  float64\n",
      " 4   genero                     30000 non-null  object \n",
      " 5   ciudad_residencia          30000 non-null  object \n",
      " 6   estrato_socioeconomico     30000 non-null  object \n",
      " 7   frecuencia_visita          30000 non-null  int64  \n",
      " 8   promedio_gasto_comida      29855 non-null  float64\n",
      " 9   ocio                       30000 non-null  object \n",
      " 10  consume_licor              30000 non-null  object \n",
      " 11  preferencias_alimenticias  28597 non-null  object \n",
      " 12  membresia_premium          30000 non-null  object \n",
      " 13  telefono_contacto          14834 non-null  object \n",
      " 14  correo_electronico         14928 non-null  object \n",
      " 15  tipo_de_pago_mas_usado     30000 non-null  object \n",
      " 16  ingresos_mensuales         30000 non-null  int64  \n",
      "dtypes: float64(2), int64(3), object(12)\n",
      "memory usage: 3.9+ MB\n",
      "None\n"
     ]
    }
   ],
   "source": [
    "print(df_usuarios_usa.info())"
   ]
  },
  {
   "cell_type": "markdown",
   "id": "7c1224b9",
   "metadata": {},
   "source": [
    "##### Se observan 30,000 datos de entrada y que el DataFrame se compone de 17 columnas: 2 de tipo float, 3 enteros y 12 columnas tipo object\n",
    "----"
   ]
  },
  {
   "cell_type": "markdown",
   "id": "0ab55c40",
   "metadata": {},
   "source": [
    "##### Se opta por generar una copia para poder generar la manipulación de datos y se analizan las variables númericas"
   ]
  },
  {
   "cell_type": "code",
   "execution_count": 8,
   "id": "e2590c4e",
   "metadata": {},
   "outputs": [
    {
     "data": {
      "application/vnd.microsoft.datawrangler.viewer.v0+json": {
       "columns": [
        {
         "name": "index",
         "rawType": "object",
         "type": "string"
        },
        {
         "name": "id_persona",
         "rawType": "float64",
         "type": "float"
        },
        {
         "name": "edad",
         "rawType": "float64",
         "type": "float"
        },
        {
         "name": "frecuencia_visita",
         "rawType": "float64",
         "type": "float"
        },
        {
         "name": "promedio_gasto_comida",
         "rawType": "float64",
         "type": "float"
        },
        {
         "name": "ingresos_mensuales",
         "rawType": "float64",
         "type": "float"
        }
       ],
       "ref": "e306939a-7283-49e3-9a5d-f72ff1bf3052",
       "rows": [
        [
         "count",
         "30000.0",
         "29899.0",
         "30000.0",
         "29855.0",
         "30000.0"
        ],
        [
         "mean",
         "5504764563.8191",
         "49.665005518579214",
         "3.8961333333333332",
         "32.603451683135155",
         "5389.755866666666"
        ],
        [
         "std",
         "2602799263.541167",
         "23.83954960148132",
         "2.741531612452236",
         "26.402600946984908",
         "4538.491728107969"
        ],
        [
         "min",
         "1000153386.0",
         "-5.0",
         "-3.0",
         "0.0",
         "800.0"
        ],
        [
         "25%",
         "3243617026.0",
         "33.0",
         "2.0",
         "13.29",
         "1860.0"
        ],
        [
         "50%",
         "5515865060.0",
         "49.0",
         "4.0",
         "25.51",
         "3402.0"
        ],
        [
         "75%",
         "7754425564.0",
         "65.0",
         "5.0",
         "44.4",
         "7761.0"
        ],
        [
         "max",
         "9999627377.0",
         "300.0",
         "10.0",
         "149.97",
         "17999.0"
        ]
       ],
       "shape": {
        "columns": 5,
        "rows": 8
       }
      },
      "text/html": [
       "<div>\n",
       "<style scoped>\n",
       "    .dataframe tbody tr th:only-of-type {\n",
       "        vertical-align: middle;\n",
       "    }\n",
       "\n",
       "    .dataframe tbody tr th {\n",
       "        vertical-align: top;\n",
       "    }\n",
       "\n",
       "    .dataframe thead th {\n",
       "        text-align: right;\n",
       "    }\n",
       "</style>\n",
       "<table border=\"1\" class=\"dataframe\">\n",
       "  <thead>\n",
       "    <tr style=\"text-align: right;\">\n",
       "      <th></th>\n",
       "      <th>id_persona</th>\n",
       "      <th>edad</th>\n",
       "      <th>frecuencia_visita</th>\n",
       "      <th>promedio_gasto_comida</th>\n",
       "      <th>ingresos_mensuales</th>\n",
       "    </tr>\n",
       "  </thead>\n",
       "  <tbody>\n",
       "    <tr>\n",
       "      <th>count</th>\n",
       "      <td>3.000000e+04</td>\n",
       "      <td>29899.000000</td>\n",
       "      <td>30000.000000</td>\n",
       "      <td>29855.000000</td>\n",
       "      <td>30000.000000</td>\n",
       "    </tr>\n",
       "    <tr>\n",
       "      <th>mean</th>\n",
       "      <td>5.504765e+09</td>\n",
       "      <td>49.665006</td>\n",
       "      <td>3.896133</td>\n",
       "      <td>32.603452</td>\n",
       "      <td>5389.755867</td>\n",
       "    </tr>\n",
       "    <tr>\n",
       "      <th>std</th>\n",
       "      <td>2.602799e+09</td>\n",
       "      <td>23.839550</td>\n",
       "      <td>2.741532</td>\n",
       "      <td>26.402601</td>\n",
       "      <td>4538.491728</td>\n",
       "    </tr>\n",
       "    <tr>\n",
       "      <th>min</th>\n",
       "      <td>1.000153e+09</td>\n",
       "      <td>-5.000000</td>\n",
       "      <td>-3.000000</td>\n",
       "      <td>0.000000</td>\n",
       "      <td>800.000000</td>\n",
       "    </tr>\n",
       "    <tr>\n",
       "      <th>25%</th>\n",
       "      <td>3.243617e+09</td>\n",
       "      <td>33.000000</td>\n",
       "      <td>2.000000</td>\n",
       "      <td>13.290000</td>\n",
       "      <td>1860.000000</td>\n",
       "    </tr>\n",
       "    <tr>\n",
       "      <th>50%</th>\n",
       "      <td>5.515865e+09</td>\n",
       "      <td>49.000000</td>\n",
       "      <td>4.000000</td>\n",
       "      <td>25.510000</td>\n",
       "      <td>3402.000000</td>\n",
       "    </tr>\n",
       "    <tr>\n",
       "      <th>75%</th>\n",
       "      <td>7.754426e+09</td>\n",
       "      <td>65.000000</td>\n",
       "      <td>5.000000</td>\n",
       "      <td>44.400000</td>\n",
       "      <td>7761.000000</td>\n",
       "    </tr>\n",
       "    <tr>\n",
       "      <th>max</th>\n",
       "      <td>9.999627e+09</td>\n",
       "      <td>300.000000</td>\n",
       "      <td>10.000000</td>\n",
       "      <td>149.970000</td>\n",
       "      <td>17999.000000</td>\n",
       "    </tr>\n",
       "  </tbody>\n",
       "</table>\n",
       "</div>"
      ],
      "text/plain": [
       "         id_persona          edad  frecuencia_visita  promedio_gasto_comida  \\\n",
       "count  3.000000e+04  29899.000000       30000.000000           29855.000000   \n",
       "mean   5.504765e+09     49.665006           3.896133              32.603452   \n",
       "std    2.602799e+09     23.839550           2.741532              26.402601   \n",
       "min    1.000153e+09     -5.000000          -3.000000               0.000000   \n",
       "25%    3.243617e+09     33.000000           2.000000              13.290000   \n",
       "50%    5.515865e+09     49.000000           4.000000              25.510000   \n",
       "75%    7.754426e+09     65.000000           5.000000              44.400000   \n",
       "max    9.999627e+09    300.000000          10.000000             149.970000   \n",
       "\n",
       "       ingresos_mensuales  \n",
       "count        30000.000000  \n",
       "mean          5389.755867  \n",
       "std           4538.491728  \n",
       "min            800.000000  \n",
       "25%           1860.000000  \n",
       "50%           3402.000000  \n",
       "75%           7761.000000  \n",
       "max          17999.000000  "
      ]
     },
     "execution_count": 8,
     "metadata": {},
     "output_type": "execute_result"
    }
   ],
   "source": [
    "df_usuarios = df_usuarios_usa.copy()\n",
    "df_usuarios.describe()"
   ]
  },
  {
   "cell_type": "code",
   "execution_count": 9,
   "id": "07f8ee2d",
   "metadata": {},
   "outputs": [
    {
     "data": {
      "application/vnd.microsoft.datawrangler.viewer.v0+json": {
       "columns": [
        {
         "name": "index",
         "rawType": "object",
         "type": "string"
        },
        {
         "name": "0",
         "rawType": "int64",
         "type": "integer"
        }
       ],
       "ref": "7e97e66d-2677-452e-b6d7-f8663a06778b",
       "rows": [
        [
         "telefono_contacto",
         "15166"
        ],
        [
         "correo_electronico",
         "15072"
        ],
        [
         "preferencias_alimenticias",
         "1403"
        ],
        [
         "promedio_gasto_comida",
         "145"
        ],
        [
         "edad",
         "101"
        ],
        [
         "id_persona",
         "0"
        ],
        [
         "genero",
         "0"
        ],
        [
         "apellido",
         "0"
        ],
        [
         "nombre",
         "0"
        ],
        [
         "frecuencia_visita",
         "0"
        ],
        [
         "estrato_socioeconomico",
         "0"
        ],
        [
         "ciudad_residencia",
         "0"
        ],
        [
         "ocio",
         "0"
        ],
        [
         "membresia_premium",
         "0"
        ],
        [
         "consume_licor",
         "0"
        ],
        [
         "tipo_de_pago_mas_usado",
         "0"
        ],
        [
         "ingresos_mensuales",
         "0"
        ]
       ],
       "shape": {
        "columns": 1,
        "rows": 17
       }
      },
      "text/plain": [
       "telefono_contacto            15166\n",
       "correo_electronico           15072\n",
       "preferencias_alimenticias     1403\n",
       "promedio_gasto_comida          145\n",
       "edad                           101\n",
       "id_persona                       0\n",
       "genero                           0\n",
       "apellido                         0\n",
       "nombre                           0\n",
       "frecuencia_visita                0\n",
       "estrato_socioeconomico           0\n",
       "ciudad_residencia                0\n",
       "ocio                             0\n",
       "membresia_premium                0\n",
       "consume_licor                    0\n",
       "tipo_de_pago_mas_usado           0\n",
       "ingresos_mensuales               0\n",
       "dtype: int64"
      ]
     },
     "execution_count": 9,
     "metadata": {},
     "output_type": "execute_result"
    }
   ],
   "source": [
    "df_usuarios.isnull().sum().sort_values(ascending=False)"
   ]
  },
  {
   "cell_type": "code",
   "execution_count": 10,
   "id": "50e7ea9d",
   "metadata": {},
   "outputs": [
    {
     "data": {
      "text/plain": [
       "(30000, 17)"
      ]
     },
     "execution_count": 10,
     "metadata": {},
     "output_type": "execute_result"
    }
   ],
   "source": [
    "df_usuarios = df_usuarios.dropna(how='all')\n",
    "np.shape(df_usuarios)"
   ]
  },
  {
   "cell_type": "code",
   "execution_count": 11,
   "id": "d3fad6ce",
   "metadata": {},
   "outputs": [
    {
     "data": {
      "application/vnd.microsoft.datawrangler.viewer.v0+json": {
       "columns": [
        {
         "name": "('estrato_socioeconomico', 'ciudad_residencia', 'genero')",
         "rawType": "object",
         "type": "unknown"
        },
        {
         "name": "edad",
         "rawType": "float64",
         "type": "float"
        }
       ],
       "ref": "45716a50-8d93-49e3-b700-ff060482926a",
       "rows": [
        [
         "('Alto', 'Boston', 'Femenino')",
         "48.0"
        ],
        [
         "('Alto', 'Boston', 'Masculino')",
         "49.0"
        ],
        [
         "('Alto', 'Chicago', 'Femenino')",
         "48.5"
        ],
        [
         "('Alto', 'Chicago', 'Masculino')",
         "47.0"
        ],
        [
         "('Alto', 'Dallas', 'Femenino')",
         "49.0"
        ],
        [
         "('Alto', 'Dallas', 'Masculino')",
         "47.0"
        ],
        [
         "('Alto', 'Denver', 'Femenino')",
         "50.0"
        ],
        [
         "('Alto', 'Denver', 'Masculino')",
         "50.0"
        ],
        [
         "('Alto', 'Houston', 'Femenino')",
         "50.0"
        ],
        [
         "('Alto', 'Houston', 'Masculino')",
         "47.0"
        ],
        [
         "('Alto', 'Miami', 'Femenino')",
         "50.0"
        ],
        [
         "('Alto', 'Miami', 'Masculino')",
         "49.0"
        ],
        [
         "('Alto', 'NYC', 'Femenino')",
         "47.0"
        ],
        [
         "('Alto', 'NYC', 'Masculino')",
         "48.0"
        ],
        [
         "('Alto', 'Phoenix', 'Femenino')",
         "47.0"
        ],
        [
         "('Alto', 'Phoenix', 'Masculino')",
         "48.0"
        ],
        [
         "('Alto', 'San Diego', 'Femenino')",
         "50.0"
        ],
        [
         "('Alto', 'San Diego', 'Masculino')",
         "49.0"
        ],
        [
         "('Alto', 'Seattle', 'Femenino')",
         "50.5"
        ],
        [
         "('Alto', 'Seattle', 'Masculino')",
         "48.0"
        ],
        [
         "('Bajo', 'Boston', 'Femenino')",
         "46.0"
        ],
        [
         "('Bajo', 'Boston', 'Masculino')",
         "51.5"
        ],
        [
         "('Bajo', 'Chicago', 'Femenino')",
         "46.0"
        ],
        [
         "('Bajo', 'Chicago', 'Masculino')",
         "51.0"
        ],
        [
         "('Bajo', 'Dallas', 'Femenino')",
         "49.0"
        ],
        [
         "('Bajo', 'Dallas', 'Masculino')",
         "52.0"
        ],
        [
         "('Bajo', 'Denver', 'Femenino')",
         "49.0"
        ],
        [
         "('Bajo', 'Denver', 'Masculino')",
         "50.0"
        ],
        [
         "('Bajo', 'Houston', 'Femenino')",
         "49.0"
        ],
        [
         "('Bajo', 'Houston', 'Masculino')",
         "49.0"
        ],
        [
         "('Bajo', 'Miami', 'Femenino')",
         "49.0"
        ],
        [
         "('Bajo', 'Miami', 'Masculino')",
         "47.0"
        ],
        [
         "('Bajo', 'NYC', 'Femenino')",
         "48.0"
        ],
        [
         "('Bajo', 'NYC', 'Masculino')",
         "51.0"
        ],
        [
         "('Bajo', 'Phoenix', 'Femenino')",
         "49.5"
        ],
        [
         "('Bajo', 'Phoenix', 'Masculino')",
         "51.0"
        ],
        [
         "('Bajo', 'San Diego', 'Femenino')",
         "51.0"
        ],
        [
         "('Bajo', 'San Diego', 'Masculino')",
         "48.0"
        ],
        [
         "('Bajo', 'Seattle', 'Femenino')",
         "51.0"
        ],
        [
         "('Bajo', 'Seattle', 'Masculino')",
         "49.0"
        ],
        [
         "('Medio', 'Boston', 'Femenino')",
         "45.5"
        ],
        [
         "('Medio', 'Boston', 'Masculino')",
         "52.0"
        ],
        [
         "('Medio', 'Chicago', 'Femenino')",
         "49.0"
        ],
        [
         "('Medio', 'Chicago', 'Masculino')",
         "47.0"
        ],
        [
         "('Medio', 'Dallas', 'Femenino')",
         "49.0"
        ],
        [
         "('Medio', 'Dallas', 'Masculino')",
         "49.5"
        ],
        [
         "('Medio', 'Denver', 'Femenino')",
         "51.0"
        ],
        [
         "('Medio', 'Denver', 'Masculino')",
         "49.0"
        ],
        [
         "('Medio', 'Houston', 'Femenino')",
         "49.5"
        ],
        [
         "('Medio', 'Houston', 'Masculino')",
         "48.0"
        ]
       ],
       "shape": {
        "columns": 1,
        "rows": 80
       }
      },
      "text/plain": [
       "estrato_socioeconomico  ciudad_residencia  genero   \n",
       "Alto                    Boston             Femenino     48.0\n",
       "                                           Masculino    49.0\n",
       "                        Chicago            Femenino     48.5\n",
       "                                           Masculino    47.0\n",
       "                        Dallas             Femenino     49.0\n",
       "                                                        ... \n",
       "Muy Alto                Phoenix            Masculino    49.0\n",
       "                        San Diego          Femenino     50.0\n",
       "                                           Masculino    47.5\n",
       "                        Seattle            Femenino     50.0\n",
       "                                           Masculino    52.0\n",
       "Name: edad, Length: 80, dtype: float64"
      ]
     },
     "execution_count": 11,
     "metadata": {},
     "output_type": "execute_result"
    }
   ],
   "source": [
    "media_edad= df_usuarios.groupby(['estrato_socioeconomico','ciudad_residencia','genero'])['edad'].median()\n",
    "media_edad\n"
   ]
  },
  {
   "cell_type": "code",
   "execution_count": 12,
   "id": "0c858d4b",
   "metadata": {},
   "outputs": [
    {
     "name": "stdout",
     "output_type": "stream",
     "text": [
      "La media de la edad en Miami es: 49.0\n",
      "La media de la edad en Denver es: 49.0\n",
      "La media de la edad en Boston es: 49.0\n",
      "La media de la edad en San Diego es: 49.0\n",
      "La media de la edad en Dallas es: 49.0\n",
      "La media de la edad en NYC es: 49.0\n",
      "La media de la edad en Seattle es: 50.0\n",
      "La media de la edad en Chicago es: 49.0\n",
      "La media de la edad en Houston es: 49.0\n",
      "La media de la edad en Phoenix es: 48.0\n"
     ]
    }
   ],
   "source": [
    "for ciudad in df_usuarios['ciudad_residencia'].unique().tolist():\n",
    "    print(f\"La media de la edad en {ciudad} es: {df_usuarios[df_usuarios['ciudad_residencia'] == ciudad]['edad'].median()}\")"
   ]
  },
  {
   "cell_type": "markdown",
   "id": "d3f0d6e5",
   "metadata": {},
   "source": [
    "##### Tomando en consideración la edad media de los ciudadanos de EU, se indica que el promedio se encuentra dentro de los 79.3 años, por lo que se toma la cifra redondeada hacía arriba para definir dentro de los rangos normalizados y se crea una función que elimine los valores fuera del rango 18-80"
   ]
  },
  {
   "cell_type": "code",
   "execution_count": 13,
   "id": "cc3c8c9d",
   "metadata": {},
   "outputs": [
    {
     "data": {
      "application/vnd.microsoft.datawrangler.viewer.v0+json": {
       "columns": [
        {
         "name": "index",
         "rawType": "object",
         "type": "string"
        },
        {
         "name": "0",
         "rawType": "int64",
         "type": "integer"
        }
       ],
       "ref": "81b13d31-91d4-4571-9709-63d6c1da49e9",
       "rows": [
        [
         "telefono_contacto",
         "15166"
        ],
        [
         "correo_electronico",
         "15072"
        ],
        [
         "preferencias_alimenticias",
         "1403"
        ],
        [
         "edad",
         "308"
        ],
        [
         "promedio_gasto_comida",
         "145"
        ],
        [
         "id_persona",
         "0"
        ],
        [
         "genero",
         "0"
        ],
        [
         "apellido",
         "0"
        ],
        [
         "nombre",
         "0"
        ],
        [
         "frecuencia_visita",
         "0"
        ],
        [
         "estrato_socioeconomico",
         "0"
        ],
        [
         "ciudad_residencia",
         "0"
        ],
        [
         "ocio",
         "0"
        ],
        [
         "membresia_premium",
         "0"
        ],
        [
         "consume_licor",
         "0"
        ],
        [
         "tipo_de_pago_mas_usado",
         "0"
        ],
        [
         "ingresos_mensuales",
         "0"
        ]
       ],
       "shape": {
        "columns": 1,
        "rows": 17
       }
      },
      "text/plain": [
       "telefono_contacto            15166\n",
       "correo_electronico           15072\n",
       "preferencias_alimenticias     1403\n",
       "edad                           308\n",
       "promedio_gasto_comida          145\n",
       "id_persona                       0\n",
       "genero                           0\n",
       "apellido                         0\n",
       "nombre                           0\n",
       "frecuencia_visita                0\n",
       "estrato_socioeconomico           0\n",
       "ciudad_residencia                0\n",
       "ocio                             0\n",
       "membresia_premium                0\n",
       "consume_licor                    0\n",
       "tipo_de_pago_mas_usado           0\n",
       "ingresos_mensuales               0\n",
       "dtype: int64"
      ]
     },
     "execution_count": 13,
     "metadata": {},
     "output_type": "execute_result"
    }
   ],
   "source": [
    "#convertimos los valores fuera del rango establecido en valores vacíos para trabajar con ellos más adelante\n",
    "df_usuarios['edad'] = df_usuarios['edad'].apply(lambda x: x if 18 <= x <= 80 else np.nan)\n",
    "df_usuarios.isnull().sum().sort_values(ascending=False)"
   ]
  },
  {
   "cell_type": "code",
   "execution_count": 14,
   "id": "6747d9b6",
   "metadata": {},
   "outputs": [],
   "source": [
    "# Reemplazamos los valores vacíos en edad de comida con el promedio de acuerdo a la ciudad de residencia, estrato socioeconomico y genero\n",
    "for c in df_usuarios ['ciudad_residencia'].unique().tolist():\n",
    "    for e in df_usuarios['estrato_socioeconomico'].unique().tolist():\n",
    "        for g in df_usuarios['genero'].unique().tolist():\n",
    "            df_usuarios['edad'] = df_usuarios['edad'].fillna(df_usuarios[(df_usuarios['ciudad_residencia'] == c)&(df_usuarios['estrato_socioeconomico'] == e)&(df_usuarios['genero'] == g)]['edad'].median())"
   ]
  },
  {
   "cell_type": "code",
   "execution_count": 15,
   "id": "3bb0b32c",
   "metadata": {},
   "outputs": [
    {
     "data": {
      "text/plain": [
       "np.int64(0)"
      ]
     },
     "execution_count": 15,
     "metadata": {},
     "output_type": "execute_result"
    }
   ],
   "source": [
    "df_usuarios['edad'].isnull().sum()"
   ]
  },
  {
   "cell_type": "code",
   "execution_count": 16,
   "id": "985aeb86",
   "metadata": {},
   "outputs": [
    {
     "data": {
      "application/vnd.microsoft.datawrangler.viewer.v0+json": {
       "columns": [
        {
         "name": "index",
         "rawType": "object",
         "type": "string"
        },
        {
         "name": "0",
         "rawType": "int64",
         "type": "integer"
        }
       ],
       "ref": "6c57657d-a0fe-4adf-ad38-f6f364f2b786",
       "rows": [
        [
         "telefono_contacto",
         "15166"
        ],
        [
         "correo_electronico",
         "15072"
        ],
        [
         "preferencias_alimenticias",
         "1403"
        ],
        [
         "promedio_gasto_comida",
         "145"
        ],
        [
         "id_persona",
         "0"
        ],
        [
         "genero",
         "0"
        ],
        [
         "nombre",
         "0"
        ],
        [
         "edad",
         "0"
        ],
        [
         "apellido",
         "0"
        ],
        [
         "frecuencia_visita",
         "0"
        ],
        [
         "estrato_socioeconomico",
         "0"
        ],
        [
         "ciudad_residencia",
         "0"
        ],
        [
         "ocio",
         "0"
        ],
        [
         "membresia_premium",
         "0"
        ],
        [
         "consume_licor",
         "0"
        ],
        [
         "tipo_de_pago_mas_usado",
         "0"
        ],
        [
         "ingresos_mensuales",
         "0"
        ]
       ],
       "shape": {
        "columns": 1,
        "rows": 17
       }
      },
      "text/plain": [
       "telefono_contacto            15166\n",
       "correo_electronico           15072\n",
       "preferencias_alimenticias     1403\n",
       "promedio_gasto_comida          145\n",
       "id_persona                       0\n",
       "genero                           0\n",
       "nombre                           0\n",
       "edad                             0\n",
       "apellido                         0\n",
       "frecuencia_visita                0\n",
       "estrato_socioeconomico           0\n",
       "ciudad_residencia                0\n",
       "ocio                             0\n",
       "membresia_premium                0\n",
       "consume_licor                    0\n",
       "tipo_de_pago_mas_usado           0\n",
       "ingresos_mensuales               0\n",
       "dtype: int64"
      ]
     },
     "execution_count": 16,
     "metadata": {},
     "output_type": "execute_result"
    }
   ],
   "source": [
    "df_usuarios.isnull().sum().sort_values(ascending=False)"
   ]
  },
  {
   "cell_type": "code",
   "execution_count": 17,
   "id": "7a8f384a",
   "metadata": {},
   "outputs": [],
   "source": [
    "# Reemplazamos los valores vacíos en promedio gasto de comida con el promedio de acuerdo a la ciudad de residencia, estrato socioeconomico y genero\n",
    "for c in df_usuarios ['ciudad_residencia'].unique().tolist():\n",
    "    for e in df_usuarios['estrato_socioeconomico'].unique().tolist():\n",
    "        for g in df_usuarios['genero'].unique().tolist():\n",
    "            df_usuarios['promedio_gasto_comida'] = df_usuarios['promedio_gasto_comida'].fillna(df_usuarios[(df_usuarios['ciudad_residencia'] == c)&(df_usuarios['estrato_socioeconomico'] == e)&(df_usuarios['genero'] == g)]['promedio_gasto_comida'].mean())"
   ]
  },
  {
   "cell_type": "code",
   "execution_count": 18,
   "id": "2873edb6",
   "metadata": {},
   "outputs": [
    {
     "data": {
      "application/vnd.microsoft.datawrangler.viewer.v0+json": {
       "columns": [
        {
         "name": "index",
         "rawType": "object",
         "type": "string"
        },
        {
         "name": "0",
         "rawType": "int64",
         "type": "integer"
        }
       ],
       "ref": "304a5b51-2e8d-4cf2-b092-3327bbabe5b6",
       "rows": [
        [
         "telefono_contacto",
         "15166"
        ],
        [
         "correo_electronico",
         "15072"
        ],
        [
         "preferencias_alimenticias",
         "1403"
        ],
        [
         "id_persona",
         "0"
        ],
        [
         "nombre",
         "0"
        ],
        [
         "ciudad_residencia",
         "0"
        ],
        [
         "apellido",
         "0"
        ],
        [
         "edad",
         "0"
        ],
        [
         "genero",
         "0"
        ],
        [
         "promedio_gasto_comida",
         "0"
        ],
        [
         "frecuencia_visita",
         "0"
        ],
        [
         "estrato_socioeconomico",
         "0"
        ],
        [
         "ocio",
         "0"
        ],
        [
         "membresia_premium",
         "0"
        ],
        [
         "consume_licor",
         "0"
        ],
        [
         "tipo_de_pago_mas_usado",
         "0"
        ],
        [
         "ingresos_mensuales",
         "0"
        ]
       ],
       "shape": {
        "columns": 1,
        "rows": 17
       }
      },
      "text/plain": [
       "telefono_contacto            15166\n",
       "correo_electronico           15072\n",
       "preferencias_alimenticias     1403\n",
       "id_persona                       0\n",
       "nombre                           0\n",
       "ciudad_residencia                0\n",
       "apellido                         0\n",
       "edad                             0\n",
       "genero                           0\n",
       "promedio_gasto_comida            0\n",
       "frecuencia_visita                0\n",
       "estrato_socioeconomico           0\n",
       "ocio                             0\n",
       "membresia_premium                0\n",
       "consume_licor                    0\n",
       "tipo_de_pago_mas_usado           0\n",
       "ingresos_mensuales               0\n",
       "dtype: int64"
      ]
     },
     "execution_count": 18,
     "metadata": {},
     "output_type": "execute_result"
    }
   ],
   "source": [
    "df_usuarios.isnull().sum().sort_values(ascending=False)"
   ]
  },
  {
   "cell_type": "code",
   "execution_count": 19,
   "id": "84c95d17",
   "metadata": {},
   "outputs": [],
   "source": [
    "# Reemplazamos los valores vacíos en la columna preferencias alimenticias con la moda de acuerdo a la ciudad de residencia, estrato socioeconomico y genero\n",
    "df_usuarios['preferencias_alimenticias'] = df_usuarios['preferencias_alimenticias'].fillna(df_usuarios.groupby(['ciudad_residencia','estrato_socioeconomico','genero'])['preferencias_alimenticias'].transform(lambda x: x.mode()[0] if not x.mode().empty else None))"
   ]
  },
  {
   "cell_type": "code",
   "execution_count": 20,
   "id": "ea271cae",
   "metadata": {},
   "outputs": [
    {
     "data": {
      "application/vnd.microsoft.datawrangler.viewer.v0+json": {
       "columns": [
        {
         "name": "index",
         "rawType": "object",
         "type": "string"
        },
        {
         "name": "0",
         "rawType": "int64",
         "type": "integer"
        }
       ],
       "ref": "6f27ac67-ed49-46f3-8aeb-4f3650efffda",
       "rows": [
        [
         "telefono_contacto",
         "15166"
        ],
        [
         "correo_electronico",
         "15072"
        ],
        [
         "id_persona",
         "0"
        ],
        [
         "nombre",
         "0"
        ],
        [
         "apellido",
         "0"
        ],
        [
         "ciudad_residencia",
         "0"
        ],
        [
         "estrato_socioeconomico",
         "0"
        ],
        [
         "edad",
         "0"
        ],
        [
         "genero",
         "0"
        ],
        [
         "promedio_gasto_comida",
         "0"
        ],
        [
         "frecuencia_visita",
         "0"
        ],
        [
         "ocio",
         "0"
        ],
        [
         "consume_licor",
         "0"
        ],
        [
         "membresia_premium",
         "0"
        ],
        [
         "preferencias_alimenticias",
         "0"
        ],
        [
         "tipo_de_pago_mas_usado",
         "0"
        ],
        [
         "ingresos_mensuales",
         "0"
        ]
       ],
       "shape": {
        "columns": 1,
        "rows": 17
       }
      },
      "text/plain": [
       "telefono_contacto            15166\n",
       "correo_electronico           15072\n",
       "id_persona                       0\n",
       "nombre                           0\n",
       "apellido                         0\n",
       "ciudad_residencia                0\n",
       "estrato_socioeconomico           0\n",
       "edad                             0\n",
       "genero                           0\n",
       "promedio_gasto_comida            0\n",
       "frecuencia_visita                0\n",
       "ocio                             0\n",
       "consume_licor                    0\n",
       "membresia_premium                0\n",
       "preferencias_alimenticias        0\n",
       "tipo_de_pago_mas_usado           0\n",
       "ingresos_mensuales               0\n",
       "dtype: int64"
      ]
     },
     "execution_count": 20,
     "metadata": {},
     "output_type": "execute_result"
    }
   ],
   "source": [
    "df_usuarios.isnull().sum().sort_values(ascending=False)"
   ]
  },
  {
   "cell_type": "code",
   "execution_count": 21,
   "id": "5ebd28d4",
   "metadata": {},
   "outputs": [],
   "source": [
    "## Eliminamos registros del data set cuya frecuencia de visita y gasto de comida es igual a 0 ya que resultan datos no relevantes para el análisis y pueden alterar los resultados\n",
    "df_usuarios.drop(df_usuarios[(df_usuarios['frecuencia_visita'] == 0) & (df_usuarios['promedio_gasto_comida'] == 0)].index,inplace=True)"
   ]
  },
  {
   "cell_type": "code",
   "execution_count": 22,
   "id": "e794b5de",
   "metadata": {},
   "outputs": [
    {
     "data": {
      "application/vnd.microsoft.datawrangler.viewer.v0+json": {
       "columns": [
        {
         "name": "index",
         "rawType": "int64",
         "type": "integer"
        },
        {
         "name": "id_persona",
         "rawType": "int64",
         "type": "integer"
        },
        {
         "name": "nombre",
         "rawType": "object",
         "type": "string"
        },
        {
         "name": "apellido",
         "rawType": "object",
         "type": "string"
        },
        {
         "name": "edad",
         "rawType": "float64",
         "type": "float"
        },
        {
         "name": "genero",
         "rawType": "object",
         "type": "string"
        },
        {
         "name": "ciudad_residencia",
         "rawType": "object",
         "type": "string"
        },
        {
         "name": "estrato_socioeconomico",
         "rawType": "object",
         "type": "string"
        },
        {
         "name": "frecuencia_visita",
         "rawType": "int64",
         "type": "integer"
        },
        {
         "name": "promedio_gasto_comida",
         "rawType": "float64",
         "type": "float"
        },
        {
         "name": "ocio",
         "rawType": "object",
         "type": "string"
        },
        {
         "name": "consume_licor",
         "rawType": "object",
         "type": "string"
        },
        {
         "name": "preferencias_alimenticias",
         "rawType": "object",
         "type": "string"
        },
        {
         "name": "membresia_premium",
         "rawType": "object",
         "type": "string"
        },
        {
         "name": "telefono_contacto",
         "rawType": "object",
         "type": "unknown"
        },
        {
         "name": "correo_electronico",
         "rawType": "object",
         "type": "unknown"
        },
        {
         "name": "tipo_de_pago_mas_usado",
         "rawType": "object",
         "type": "string"
        },
        {
         "name": "ingresos_mensuales",
         "rawType": "int64",
         "type": "integer"
        }
       ],
       "ref": "e7dda317-20e5-459d-a484-4ea395c449be",
       "rows": [
        [
         "0",
         "2550327378",
         "Jackson",
         "Gomez",
         "31.0",
         "Masculino",
         "Miami",
         "Alto",
         "6",
         "67.51",
         "Sí",
         "No",
         "Vegetariano",
         "Sí",
         "(830)220-1926",
         null,
         "Efectivo",
         "6425"
        ],
        [
         "16",
         "6139475525",
         "Andrew",
         "Soto",
         "18.0",
         "Masculino",
         "Miami",
         "Muy Alto",
         "9",
         "26.6",
         "Sí",
         "Sí",
         "Vegetariano",
         "Sí",
         "2859380942",
         "ssteele@example.net",
         "App",
         "13452"
        ],
        [
         "37",
         "5358661821",
         "Elizabeth",
         "Brown",
         "79.0",
         "Femenino",
         "Miami",
         "Muy Alto",
         "6",
         "28.43",
         "No",
         "No",
         "Mariscos",
         "Sí",
         "(464)992-9070x38394",
         null,
         "Efectivo",
         "14072"
        ],
        [
         "45",
         "8593345998",
         "Robert",
         "Wilson",
         "76.0",
         "Masculino",
         "Miami",
         "Alto",
         "5",
         "43.0",
         "Sí",
         "No",
         "Mariscos",
         "Sí",
         null,
         null,
         "App",
         "6528"
        ],
        [
         "47",
         "6170452916",
         "Bruce",
         "Young",
         "55.0",
         "Masculino",
         "Miami",
         "Muy Alto",
         "5",
         "119.85",
         "Sí",
         "No",
         "Carnes",
         "Sí",
         null,
         "ltran@example.com",
         "Efectivo",
         "15844"
        ],
        [
         "49",
         "8077451214",
         "April",
         "Franco",
         "30.0",
         "Femenino",
         "Miami",
         "Alto",
         "5",
         "68.46",
         "No",
         "Sí",
         "Mariscos",
         "No",
         null,
         null,
         "Efectivo",
         "7298"
        ],
        [
         "76",
         "4302632494",
         "Frederick",
         "Sullivan",
         "52.0",
         "Masculino",
         "Miami",
         "Alto",
         "5",
         "24.55",
         "No",
         "Sí",
         "Mariscos",
         "Sí",
         null,
         "baldwinrobert@example.net",
         "App",
         "6526"
        ],
        [
         "125",
         "5655633608",
         "Kayla",
         "Young",
         "76.0",
         "Femenino",
         "Miami",
         "Muy Alto",
         "9",
         "106.66",
         "Sí",
         "No",
         "Otro",
         "Sí",
         null,
         "lisaporter@example.net",
         "App",
         "17941"
        ],
        [
         "158",
         "4264923689",
         "Victoria",
         "Gibson",
         "45.0",
         "Femenino",
         "Miami",
         "Alto",
         "6",
         "11.48",
         "Sí",
         "Sí",
         "Vegetariano",
         "Sí",
         null,
         null,
         "Efectivo",
         "3953"
        ],
        [
         "187",
         "4416041612",
         "Mary",
         "Eaton",
         "59.0",
         "Femenino",
         "Miami",
         "Medio",
         "2",
         "30.57",
         "Sí",
         "No",
         "Mariscos",
         "No",
         null,
         "hoodryan@example.net",
         "Tarjeta",
         "2862"
        ],
        [
         "198",
         "1069937700",
         "Stephanie",
         "Miles",
         "50.0",
         "Femenino",
         "Miami",
         "Alto",
         "5",
         "55.31",
         "Sí",
         "No",
         "Vegetariano",
         "Sí",
         null,
         null,
         "Tarjeta",
         "5784"
        ],
        [
         "206",
         "6075471302",
         "Patrick",
         "Williams",
         "77.0",
         "Masculino",
         "Miami",
         "Alto",
         "-3",
         "52.39",
         "Sí",
         "No",
         "Mariscos",
         "Sí",
         "343-469-2009",
         "jennifer85@example.org",
         "Efectivo",
         "4838"
        ],
        [
         "210",
         "3961206672",
         "John",
         "Alexander",
         "56.0",
         "Masculino",
         "Miami",
         "Medio",
         "4",
         "34.61",
         "Sí",
         "Sí",
         "Vegetariano",
         "No",
         null,
         null,
         "Tarjeta",
         "2735"
        ],
        [
         "219",
         "7615677462",
         "Richard",
         "Cantu",
         "25.0",
         "Masculino",
         "Miami",
         "Muy Alto",
         "8",
         "128.81",
         "No",
         "Sí",
         "Vegetariano",
         "Sí",
         "780-285-1115x04122",
         "wilsongarrett@example.net",
         "App",
         "14613"
        ],
        [
         "223",
         "4649608393",
         "John",
         "Johnson",
         "67.0",
         "Masculino",
         "Miami",
         "Alto",
         "4",
         "31.72",
         "No",
         "Sí",
         "Mariscos",
         "Sí",
         "001-791-378-3563x64058",
         null,
         "App",
         "5064"
        ],
        [
         "224",
         "9543880001",
         "Hannah",
         "Hoffman",
         "71.0",
         "Femenino",
         "Miami",
         "Muy Alto",
         "10",
         "29.57",
         "No",
         "No",
         "Vegetariano",
         "Sí",
         null,
         "wrightthomas@example.net",
         "App",
         "14035"
        ],
        [
         "229",
         "2196045940",
         "Elizabeth",
         "Ochoa",
         "69.0",
         "Femenino",
         "Miami",
         "Alto",
         "6",
         "27.05",
         "No",
         "No",
         "Vegetariano",
         "No",
         "+1-279-278-9293",
         null,
         "Efectivo",
         "8811"
        ],
        [
         "254",
         "1195683634",
         "Becky",
         "Santana",
         "19.0",
         "Femenino",
         "Miami",
         "Alto",
         "6",
         "69.99",
         "No",
         "Sí",
         "Mariscos",
         "Sí",
         null,
         "odonnellmadison@example.net",
         "Tarjeta",
         "5483"
        ],
        [
         "264",
         "9638008427",
         "Maria",
         "Fisher",
         "26.0",
         "Femenino",
         "Miami",
         "Alto",
         "6",
         "55.22",
         "Sí",
         "Sí",
         "Mariscos",
         "Sí",
         "(201)873-8226",
         null,
         "App",
         "4679"
        ],
        [
         "271",
         "5696548897",
         "Andrew",
         "Rasmussen",
         "70.0",
         "Masculino",
         "Miami",
         "Medio",
         "2",
         "12.16",
         "No",
         "No",
         "Vegetariano",
         "No",
         "(936)416-0109",
         null,
         "Tarjeta",
         "2818"
        ],
        [
         "273",
         "8086172302",
         "Kaitlyn",
         "Green",
         "71.0",
         "Femenino",
         "Miami",
         "Muy Alto",
         "6",
         "82.02",
         "No",
         "No",
         "Pescado",
         "Sí",
         "+1-466-431-0094x53194",
         "patrickpaul@example.org",
         "Tarjeta",
         "12692"
        ],
        [
         "279",
         "3128675098",
         "Brian",
         "Ramirez",
         "33.0",
         "Masculino",
         "Miami",
         "Bajo",
         "3",
         "14.48",
         "Sí",
         "No",
         "Mariscos",
         "No",
         "001-916-696-4668x026",
         "daniel17@example.com",
         "Tarjeta",
         "1283"
        ],
        [
         "292",
         "9650150896",
         "Jason",
         "Davis",
         "33.0",
         "Masculino",
         "Miami",
         "Bajo",
         "2",
         "10.34",
         "Sí",
         "Sí",
         "Pescado",
         "No",
         null,
         null,
         "App",
         "1482"
        ],
        [
         "306",
         "8796286443",
         "Megan",
         "Hill",
         "54.0",
         "Femenino",
         "Miami",
         "Medio",
         "4",
         "37.55",
         "Sí",
         "Sí",
         "Otro",
         "Sí",
         null,
         null,
         "Efectivo",
         "2013"
        ],
        [
         "308",
         "8730278383",
         "Carmen",
         "Williams",
         "54.0",
         "Femenino",
         "Miami",
         "Muy Alto",
         "8",
         "51.45",
         "Sí",
         "No",
         "Mariscos",
         "Sí",
         null,
         "franklintracie@example.com",
         "Efectivo",
         "17168"
        ],
        [
         "327",
         "4444443569",
         "Jessica",
         "Gardner",
         "56.0",
         "Femenino",
         "Miami",
         "Medio",
         "2",
         "34.15",
         "Sí",
         "Sí",
         "Otro",
         "No",
         null,
         "gjames@example.com",
         "App",
         "2688"
        ],
        [
         "334",
         "2147175290",
         "William",
         "Wilson",
         "61.0",
         "Masculino",
         "Miami",
         "Alto",
         "5",
         "63.66",
         "Sí",
         "Sí",
         "Vegetariano",
         "No",
         null,
         null,
         "Efectivo",
         "7062"
        ],
        [
         "341",
         "5562087085",
         "Joshua",
         "Bush",
         "39.0",
         "Masculino",
         "Miami",
         "Alto",
         "4",
         "66.3",
         "No",
         "Sí",
         "Vegetariano",
         "Sí",
         "001-367-999-2662x434",
         null,
         "Tarjeta",
         "5063"
        ],
        [
         "342",
         "6379424827",
         "Jordan",
         "Patterson",
         "42.0",
         "Masculino",
         "Miami",
         "Muy Alto",
         "10",
         "33.57",
         "No",
         "No",
         "Vegetariano",
         "Sí",
         "(886)914-6921x193",
         null,
         "Efectivo",
         "15156"
        ],
        [
         "358",
         "3971709213",
         "Edward",
         "Potter",
         "32.0",
         "Masculino",
         "Miami",
         "Bajo",
         "2",
         "11.62",
         "Sí",
         "No",
         "Mariscos",
         "No",
         "811-652-5641x650",
         null,
         "Efectivo",
         "1184"
        ],
        [
         "384",
         "9562381069",
         "Tina",
         "Cruz",
         "73.0",
         "Femenino",
         "Miami",
         "Medio",
         "3",
         "13.97",
         "No",
         "No",
         "Pescado",
         "No",
         null,
         null,
         "App",
         "3465"
        ],
        [
         "390",
         "6298063721",
         "Aaron",
         "Schmitt",
         "56.0",
         "Masculino",
         "Miami",
         "Muy Alto",
         "10",
         "111.71",
         "Sí",
         "No",
         "Vegetariano",
         "Sí",
         null,
         "margaretmoore@example.org",
         "Tarjeta",
         "9136"
        ],
        [
         "402",
         "2070827188",
         "Kevin",
         "Gonzalez",
         "44.0",
         "Masculino",
         "Miami",
         "Alto",
         "4",
         "69.76",
         "Sí",
         "No",
         "Vegetariano",
         "Sí",
         "389-364-3224x6963",
         "samantha99@example.com",
         "Tarjeta",
         "4823"
        ],
        [
         "412",
         "1006313891",
         "Renee",
         "Martinez",
         "34.0",
         "Femenino",
         "Miami",
         "Alto",
         "6",
         "50.97",
         "No",
         "Sí",
         "Vegetariano",
         "Sí",
         null,
         null,
         "App",
         "5640"
        ],
        [
         "419",
         "8989418278",
         "Jordan",
         "Jacobson",
         "46.0",
         "Femenino",
         "Miami",
         "Alto",
         "5",
         "29.79",
         "No",
         "No",
         "Vegetariano",
         "Sí",
         null,
         null,
         "Criptomoneda",
         "7886"
        ],
        [
         "441",
         "7306932402",
         "Miguel",
         "Barton",
         "31.0",
         "Masculino",
         "Miami",
         "Muy Alto",
         "6",
         "49.3",
         "Sí",
         "Sí",
         "Vegetariano",
         "Sí",
         null,
         null,
         "Tarjeta",
         "9316"
        ],
        [
         "447",
         "5262763064",
         "Sherri",
         "Parker",
         "40.0",
         "Femenino",
         "Miami",
         "Medio",
         "3",
         "16.34",
         "Sí",
         "Sí",
         "Carnes",
         "No",
         null,
         null,
         "Tarjeta",
         "2241"
        ],
        [
         "460",
         "2121168114",
         "Jennifer",
         "Johnson",
         "61.0",
         "Femenino",
         "Miami",
         "Alto",
         "6",
         "30.32",
         "No",
         "Sí",
         "Carnes",
         "Sí",
         null,
         "cory16@example.org",
         "Tarjeta",
         "4442"
        ],
        [
         "472",
         "9447712449",
         "Michael",
         "Wright",
         "23.0",
         "Masculino",
         "Miami",
         "Medio",
         "3",
         "29.08",
         "No",
         "Sí",
         "Pescado",
         "No",
         "(828)200-2370",
         "charlesjones@example.net",
         "App",
         "1915"
        ],
        [
         "474",
         "3066051179",
         "Sharon",
         "Wolf",
         "39.0",
         "Femenino",
         "Miami",
         "Medio",
         "3",
         "36.93",
         "Sí",
         "No",
         "Vegetariano",
         "No",
         "(238)858-9725",
         "odawson@example.org",
         "App",
         "2785"
        ],
        [
         "483",
         "4755317390",
         "Steve",
         "Vasquez",
         "71.0",
         "Masculino",
         "Miami",
         "Muy Alto",
         "9",
         "68.69",
         "No",
         "Sí",
         "Vegetariano",
         "Sí",
         "441-757-2397x42474",
         "weberbianca@example.com",
         "Efectivo",
         "17764"
        ],
        [
         "509",
         "6817958388",
         "Kevin",
         "Kennedy",
         "49.0",
         "Masculino",
         "Miami",
         "Alto",
         "6",
         "30.44",
         "Sí",
         "No",
         "Carnes",
         "No",
         null,
         null,
         "App",
         "8623"
        ],
        [
         "515",
         "3922028033",
         "Karen",
         "Ryan",
         "24.0",
         "Femenino",
         "Miami",
         "Alto",
         "5",
         "17.5",
         "Sí",
         "Sí",
         "Vegetariano",
         "No",
         "001-454-409-8521x77296",
         "jeremyrhodes@example.net",
         "App",
         "7148"
        ],
        [
         "522",
         "9694199134",
         "Angel",
         "Martinez",
         "47.0",
         "Femenino",
         "Miami",
         "Alto",
         "5",
         "49.15",
         "No",
         "No",
         "Mariscos",
         "Sí",
         null,
         "vmiller@example.com",
         "Tarjeta",
         "5532"
        ],
        [
         "523",
         "2990525532",
         "Christy",
         "Evans",
         "76.0",
         "Femenino",
         "Miami",
         "Alto",
         "4",
         "18.73",
         "No",
         "Sí",
         "Vegano",
         "Sí",
         null,
         "gburke@example.org",
         "Tarjeta",
         "4590"
        ],
        [
         "526",
         "6195793357",
         "Nathan",
         "Salazar",
         "70.0",
         "Masculino",
         "Miami",
         "Muy Alto",
         "7",
         "39.59",
         "Sí",
         "No",
         "Otro",
         "Sí",
         null,
         null,
         "Tarjeta",
         "12226"
        ],
        [
         "532",
         "3492199046",
         "Rebecca",
         "Stephens",
         "49.0",
         "Femenino",
         "Miami",
         "Medio",
         "2",
         "29.86",
         "No",
         "Sí",
         "Otro",
         "No",
         "306-760-1165x58651",
         "youngmichael@example.net",
         "App",
         "2662"
        ],
        [
         "546",
         "2286994364",
         "Daniel",
         "Little",
         "49.0",
         "Masculino",
         "Miami",
         "Bajo",
         "1",
         "10.72",
         "Sí",
         "No",
         "Mariscos",
         "No",
         null,
         "dixonryan@example.com",
         "App",
         "1233"
        ],
        [
         "555",
         "2684729247",
         "Ashley",
         "Patterson",
         "50.0",
         "Femenino",
         "Miami",
         "Medio",
         "2",
         "32.38",
         "No",
         "No",
         "Carnes",
         "No",
         null,
         null,
         "App",
         "2161"
        ],
        [
         "569",
         "6910726321",
         "Ryan",
         "Ramirez",
         "40.0",
         "Masculino",
         "Miami",
         "Alto",
         "6",
         "16.94",
         "No",
         "No",
         "Carnes",
         "No",
         "001-643-913-3112x70645",
         null,
         "Tarjeta",
         "4344"
        ]
       ],
       "shape": {
        "columns": 17,
        "rows": 3084
       }
      },
      "text/html": [
       "<div>\n",
       "<style scoped>\n",
       "    .dataframe tbody tr th:only-of-type {\n",
       "        vertical-align: middle;\n",
       "    }\n",
       "\n",
       "    .dataframe tbody tr th {\n",
       "        vertical-align: top;\n",
       "    }\n",
       "\n",
       "    .dataframe thead th {\n",
       "        text-align: right;\n",
       "    }\n",
       "</style>\n",
       "<table border=\"1\" class=\"dataframe\">\n",
       "  <thead>\n",
       "    <tr style=\"text-align: right;\">\n",
       "      <th></th>\n",
       "      <th>id_persona</th>\n",
       "      <th>nombre</th>\n",
       "      <th>apellido</th>\n",
       "      <th>edad</th>\n",
       "      <th>genero</th>\n",
       "      <th>ciudad_residencia</th>\n",
       "      <th>estrato_socioeconomico</th>\n",
       "      <th>frecuencia_visita</th>\n",
       "      <th>promedio_gasto_comida</th>\n",
       "      <th>ocio</th>\n",
       "      <th>consume_licor</th>\n",
       "      <th>preferencias_alimenticias</th>\n",
       "      <th>membresia_premium</th>\n",
       "      <th>telefono_contacto</th>\n",
       "      <th>correo_electronico</th>\n",
       "      <th>tipo_de_pago_mas_usado</th>\n",
       "      <th>ingresos_mensuales</th>\n",
       "    </tr>\n",
       "  </thead>\n",
       "  <tbody>\n",
       "    <tr>\n",
       "      <th>0</th>\n",
       "      <td>2550327378</td>\n",
       "      <td>Jackson</td>\n",
       "      <td>Gomez</td>\n",
       "      <td>31.0</td>\n",
       "      <td>Masculino</td>\n",
       "      <td>Miami</td>\n",
       "      <td>Alto</td>\n",
       "      <td>6</td>\n",
       "      <td>67.51</td>\n",
       "      <td>Sí</td>\n",
       "      <td>No</td>\n",
       "      <td>Vegetariano</td>\n",
       "      <td>Sí</td>\n",
       "      <td>(830)220-1926</td>\n",
       "      <td>NaN</td>\n",
       "      <td>Efectivo</td>\n",
       "      <td>6425</td>\n",
       "    </tr>\n",
       "    <tr>\n",
       "      <th>16</th>\n",
       "      <td>6139475525</td>\n",
       "      <td>Andrew</td>\n",
       "      <td>Soto</td>\n",
       "      <td>18.0</td>\n",
       "      <td>Masculino</td>\n",
       "      <td>Miami</td>\n",
       "      <td>Muy Alto</td>\n",
       "      <td>9</td>\n",
       "      <td>26.60</td>\n",
       "      <td>Sí</td>\n",
       "      <td>Sí</td>\n",
       "      <td>Vegetariano</td>\n",
       "      <td>Sí</td>\n",
       "      <td>2859380942</td>\n",
       "      <td>ssteele@example.net</td>\n",
       "      <td>App</td>\n",
       "      <td>13452</td>\n",
       "    </tr>\n",
       "    <tr>\n",
       "      <th>37</th>\n",
       "      <td>5358661821</td>\n",
       "      <td>Elizabeth</td>\n",
       "      <td>Brown</td>\n",
       "      <td>79.0</td>\n",
       "      <td>Femenino</td>\n",
       "      <td>Miami</td>\n",
       "      <td>Muy Alto</td>\n",
       "      <td>6</td>\n",
       "      <td>28.43</td>\n",
       "      <td>No</td>\n",
       "      <td>No</td>\n",
       "      <td>Mariscos</td>\n",
       "      <td>Sí</td>\n",
       "      <td>(464)992-9070x38394</td>\n",
       "      <td>NaN</td>\n",
       "      <td>Efectivo</td>\n",
       "      <td>14072</td>\n",
       "    </tr>\n",
       "    <tr>\n",
       "      <th>45</th>\n",
       "      <td>8593345998</td>\n",
       "      <td>Robert</td>\n",
       "      <td>Wilson</td>\n",
       "      <td>76.0</td>\n",
       "      <td>Masculino</td>\n",
       "      <td>Miami</td>\n",
       "      <td>Alto</td>\n",
       "      <td>5</td>\n",
       "      <td>43.00</td>\n",
       "      <td>Sí</td>\n",
       "      <td>No</td>\n",
       "      <td>Mariscos</td>\n",
       "      <td>Sí</td>\n",
       "      <td>NaN</td>\n",
       "      <td>NaN</td>\n",
       "      <td>App</td>\n",
       "      <td>6528</td>\n",
       "    </tr>\n",
       "    <tr>\n",
       "      <th>47</th>\n",
       "      <td>6170452916</td>\n",
       "      <td>Bruce</td>\n",
       "      <td>Young</td>\n",
       "      <td>55.0</td>\n",
       "      <td>Masculino</td>\n",
       "      <td>Miami</td>\n",
       "      <td>Muy Alto</td>\n",
       "      <td>5</td>\n",
       "      <td>119.85</td>\n",
       "      <td>Sí</td>\n",
       "      <td>No</td>\n",
       "      <td>Carnes</td>\n",
       "      <td>Sí</td>\n",
       "      <td>NaN</td>\n",
       "      <td>ltran@example.com</td>\n",
       "      <td>Efectivo</td>\n",
       "      <td>15844</td>\n",
       "    </tr>\n",
       "    <tr>\n",
       "      <th>...</th>\n",
       "      <td>...</td>\n",
       "      <td>...</td>\n",
       "      <td>...</td>\n",
       "      <td>...</td>\n",
       "      <td>...</td>\n",
       "      <td>...</td>\n",
       "      <td>...</td>\n",
       "      <td>...</td>\n",
       "      <td>...</td>\n",
       "      <td>...</td>\n",
       "      <td>...</td>\n",
       "      <td>...</td>\n",
       "      <td>...</td>\n",
       "      <td>...</td>\n",
       "      <td>...</td>\n",
       "      <td>...</td>\n",
       "      <td>...</td>\n",
       "    </tr>\n",
       "    <tr>\n",
       "      <th>29953</th>\n",
       "      <td>2238067088</td>\n",
       "      <td>Kevin</td>\n",
       "      <td>Taylor</td>\n",
       "      <td>45.0</td>\n",
       "      <td>Masculino</td>\n",
       "      <td>Miami</td>\n",
       "      <td>Medio</td>\n",
       "      <td>5</td>\n",
       "      <td>35.35</td>\n",
       "      <td>Sí</td>\n",
       "      <td>No</td>\n",
       "      <td>Vegetariano</td>\n",
       "      <td>Sí</td>\n",
       "      <td>+1-748-240-5443</td>\n",
       "      <td>jerrychavez@example.com</td>\n",
       "      <td>Efectivo</td>\n",
       "      <td>3174</td>\n",
       "    </tr>\n",
       "    <tr>\n",
       "      <th>29957</th>\n",
       "      <td>1161504159</td>\n",
       "      <td>Rachael</td>\n",
       "      <td>Martinez</td>\n",
       "      <td>58.0</td>\n",
       "      <td>Femenino</td>\n",
       "      <td>Miami</td>\n",
       "      <td>Medio</td>\n",
       "      <td>5</td>\n",
       "      <td>19.10</td>\n",
       "      <td>No</td>\n",
       "      <td>Sí</td>\n",
       "      <td>Pescado</td>\n",
       "      <td>No</td>\n",
       "      <td>7756404909</td>\n",
       "      <td>wmalone@example.net</td>\n",
       "      <td>Efectivo</td>\n",
       "      <td>2157</td>\n",
       "    </tr>\n",
       "    <tr>\n",
       "      <th>29958</th>\n",
       "      <td>9452988778</td>\n",
       "      <td>William</td>\n",
       "      <td>Peters</td>\n",
       "      <td>50.0</td>\n",
       "      <td>Masculino</td>\n",
       "      <td>Miami</td>\n",
       "      <td>Bajo</td>\n",
       "      <td>2</td>\n",
       "      <td>14.65</td>\n",
       "      <td>Sí</td>\n",
       "      <td>Sí</td>\n",
       "      <td>Mariscos</td>\n",
       "      <td>No</td>\n",
       "      <td>NaN</td>\n",
       "      <td>NaN</td>\n",
       "      <td>Tarjeta</td>\n",
       "      <td>829</td>\n",
       "    </tr>\n",
       "    <tr>\n",
       "      <th>29985</th>\n",
       "      <td>8301681475</td>\n",
       "      <td>Gloria</td>\n",
       "      <td>Evans</td>\n",
       "      <td>38.0</td>\n",
       "      <td>Femenino</td>\n",
       "      <td>Miami</td>\n",
       "      <td>Alto</td>\n",
       "      <td>5</td>\n",
       "      <td>16.84</td>\n",
       "      <td>Sí</td>\n",
       "      <td>No</td>\n",
       "      <td>Carnes</td>\n",
       "      <td>Sí</td>\n",
       "      <td>950-647-8528x2958</td>\n",
       "      <td>marywilliams@example.net</td>\n",
       "      <td>Tarjeta</td>\n",
       "      <td>4853</td>\n",
       "    </tr>\n",
       "    <tr>\n",
       "      <th>29988</th>\n",
       "      <td>3642464047</td>\n",
       "      <td>Sherry</td>\n",
       "      <td>Wilson</td>\n",
       "      <td>35.0</td>\n",
       "      <td>Femenino</td>\n",
       "      <td>Miami</td>\n",
       "      <td>Bajo</td>\n",
       "      <td>1</td>\n",
       "      <td>15.65</td>\n",
       "      <td>Sí</td>\n",
       "      <td>Sí</td>\n",
       "      <td>Carnes</td>\n",
       "      <td>No</td>\n",
       "      <td>NaN</td>\n",
       "      <td>georgesellers@example.net</td>\n",
       "      <td>Tarjeta</td>\n",
       "      <td>1243</td>\n",
       "    </tr>\n",
       "  </tbody>\n",
       "</table>\n",
       "<p>3084 rows × 17 columns</p>\n",
       "</div>"
      ],
      "text/plain": [
       "       id_persona     nombre  apellido  edad     genero ciudad_residencia  \\\n",
       "0      2550327378    Jackson     Gomez  31.0  Masculino             Miami   \n",
       "16     6139475525     Andrew      Soto  18.0  Masculino             Miami   \n",
       "37     5358661821  Elizabeth     Brown  79.0   Femenino             Miami   \n",
       "45     8593345998     Robert    Wilson  76.0  Masculino             Miami   \n",
       "47     6170452916      Bruce     Young  55.0  Masculino             Miami   \n",
       "...           ...        ...       ...   ...        ...               ...   \n",
       "29953  2238067088      Kevin    Taylor  45.0  Masculino             Miami   \n",
       "29957  1161504159    Rachael  Martinez  58.0   Femenino             Miami   \n",
       "29958  9452988778    William    Peters  50.0  Masculino             Miami   \n",
       "29985  8301681475     Gloria     Evans  38.0   Femenino             Miami   \n",
       "29988  3642464047     Sherry    Wilson  35.0   Femenino             Miami   \n",
       "\n",
       "      estrato_socioeconomico  frecuencia_visita  promedio_gasto_comida ocio  \\\n",
       "0                       Alto                  6                  67.51   Sí   \n",
       "16                  Muy Alto                  9                  26.60   Sí   \n",
       "37                  Muy Alto                  6                  28.43   No   \n",
       "45                      Alto                  5                  43.00   Sí   \n",
       "47                  Muy Alto                  5                 119.85   Sí   \n",
       "...                      ...                ...                    ...  ...   \n",
       "29953                  Medio                  5                  35.35   Sí   \n",
       "29957                  Medio                  5                  19.10   No   \n",
       "29958                   Bajo                  2                  14.65   Sí   \n",
       "29985                   Alto                  5                  16.84   Sí   \n",
       "29988                   Bajo                  1                  15.65   Sí   \n",
       "\n",
       "      consume_licor preferencias_alimenticias membresia_premium  \\\n",
       "0                No               Vegetariano                Sí   \n",
       "16               Sí               Vegetariano                Sí   \n",
       "37               No                  Mariscos                Sí   \n",
       "45               No                  Mariscos                Sí   \n",
       "47               No                    Carnes                Sí   \n",
       "...             ...                       ...               ...   \n",
       "29953            No               Vegetariano                Sí   \n",
       "29957            Sí                   Pescado                No   \n",
       "29958            Sí                  Mariscos                No   \n",
       "29985            No                    Carnes                Sí   \n",
       "29988            Sí                    Carnes                No   \n",
       "\n",
       "         telefono_contacto         correo_electronico tipo_de_pago_mas_usado  \\\n",
       "0            (830)220-1926                        NaN               Efectivo   \n",
       "16              2859380942        ssteele@example.net                    App   \n",
       "37     (464)992-9070x38394                        NaN               Efectivo   \n",
       "45                     NaN                        NaN                    App   \n",
       "47                     NaN          ltran@example.com               Efectivo   \n",
       "...                    ...                        ...                    ...   \n",
       "29953      +1-748-240-5443    jerrychavez@example.com               Efectivo   \n",
       "29957           7756404909        wmalone@example.net               Efectivo   \n",
       "29958                  NaN                        NaN                Tarjeta   \n",
       "29985    950-647-8528x2958   marywilliams@example.net                Tarjeta   \n",
       "29988                  NaN  georgesellers@example.net                Tarjeta   \n",
       "\n",
       "       ingresos_mensuales  \n",
       "0                    6425  \n",
       "16                  13452  \n",
       "37                  14072  \n",
       "45                   6528  \n",
       "47                  15844  \n",
       "...                   ...  \n",
       "29953                3174  \n",
       "29957                2157  \n",
       "29958                 829  \n",
       "29985                4853  \n",
       "29988                1243  \n",
       "\n",
       "[3084 rows x 17 columns]"
      ]
     },
     "execution_count": 22,
     "metadata": {},
     "output_type": "execute_result"
    }
   ],
   "source": [
    "# Filtramos por ciudad para obtener los resultados a tratar con la importación de los datos a tráves de la API\n",
    "df_usuarios[df_usuarios['ciudad_residencia'] == 'Miami']"
   ]
  },
  {
   "cell_type": "markdown",
   "id": "422449ca",
   "metadata": {},
   "source": [
    "El primer data frame Restaurante_USA_v2 ha sido tratado para poder obtener datos limpios y ahora se va a efectuar la misma limpieza dentro del segundo data frame"
   ]
  },
  {
   "cell_type": "code",
   "execution_count": 23,
   "id": "6a948a4c",
   "metadata": {},
   "outputs": [
    {
     "data": {
      "application/vnd.microsoft.datawrangler.viewer.v0+json": {
       "columns": [
        {
         "name": "genero",
         "rawType": "object",
         "type": "string"
        },
        {
         "name": "id_persona",
         "rawType": "int64",
         "type": "integer"
        }
       ],
       "ref": "a752c31d-4d70-4d81-996d-b3b9360e33e8",
       "rows": [
        [
         "Femenino",
         "14283"
        ],
        [
         "Masculino",
         "14254"
        ]
       ],
       "shape": {
        "columns": 1,
        "rows": 2
       }
      },
      "text/plain": [
       "genero\n",
       "Femenino     14283\n",
       "Masculino    14254\n",
       "Name: id_persona, dtype: int64"
      ]
     },
     "execution_count": 23,
     "metadata": {},
     "output_type": "execute_result"
    }
   ],
   "source": [
    "genero_usuarios = df_usuarios.groupby('genero')['id_persona'].count()\n",
    "genero_usuarios"
   ]
  },
  {
   "cell_type": "code",
   "execution_count": 24,
   "id": "4de1f4b3",
   "metadata": {},
   "outputs": [
    {
     "data": {
      "application/vnd.microsoft.datawrangler.viewer.v0+json": {
       "columns": [
        {
         "name": "estrato_socioeconomico",
         "rawType": "object",
         "type": "string"
        },
        {
         "name": "frecuencia_visita",
         "rawType": "float64",
         "type": "float"
        }
       ],
       "ref": "a4463215-de09-4029-9aad-d7b8fe2e6a69",
       "rows": [
        [
         "Alto",
         "4.594157999557424"
        ],
        [
         "Bajo",
         "1.6751809280544914"
        ],
        [
         "Medio",
         "3.148418230563003"
        ],
        [
         "Muy Alto",
         "6.963659605551498"
        ]
       ],
       "shape": {
        "columns": 1,
        "rows": 4
       }
      },
      "text/plain": [
       "estrato_socioeconomico\n",
       "Alto        4.594158\n",
       "Bajo        1.675181\n",
       "Medio       3.148418\n",
       "Muy Alto    6.963660\n",
       "Name: frecuencia_visita, dtype: float64"
      ]
     },
     "execution_count": 24,
     "metadata": {},
     "output_type": "execute_result"
    }
   ],
   "source": [
    "frecuencia_cal =df_usuarios.groupby('estrato_socioeconomico')['frecuencia_visita'].mean()\n",
    "frecuencia_cal"
   ]
  },
  {
   "cell_type": "code",
   "execution_count": 25,
   "id": "ec8fd7ee",
   "metadata": {},
   "outputs": [
    {
     "data": {
      "application/vnd.microsoft.datawrangler.viewer.v0+json": {
       "columns": [
        {
         "name": "estrato_socioeconomico",
         "rawType": "object",
         "type": "string"
        },
        {
         "name": "promedio_gasto_comida",
         "rawType": "float64",
         "type": "float"
        }
       ],
       "ref": "c84d0c98-23c4-45f2-b6c5-7a4cc79862c5",
       "rows": [
        [
         "Alto",
         "38.15228251792266"
        ],
        [
         "Bajo",
         "11.782087181330235"
        ],
        [
         "Medio",
         "24.32421526937637"
        ],
        [
         "Muy Alto",
         "64.31699334877455"
        ]
       ],
       "shape": {
        "columns": 1,
        "rows": 4
       }
      },
      "text/plain": [
       "estrato_socioeconomico\n",
       "Alto        38.152283\n",
       "Bajo        11.782087\n",
       "Medio       24.324215\n",
       "Muy Alto    64.316993\n",
       "Name: promedio_gasto_comida, dtype: float64"
      ]
     },
     "execution_count": 25,
     "metadata": {},
     "output_type": "execute_result"
    }
   ],
   "source": [
    "gasto_cal =df_usuarios.groupby(['estrato_socioeconomico'])['promedio_gasto_comida'].mean()\n",
    "gasto_cal"
   ]
  },
  {
   "cell_type": "code",
   "execution_count": 26,
   "id": "70cc119c",
   "metadata": {},
   "outputs": [
    {
     "data": {
      "application/vnd.microsoft.datawrangler.viewer.v0+json": {
       "columns": [
        {
         "name": "estrato_socioeconomico",
         "rawType": "object",
         "type": "string"
        },
        {
         "name": "id_persona",
         "rawType": "int64",
         "type": "integer"
        }
       ],
       "ref": "aa41cc4f-896b-417f-ae98-8c396d069243",
       "rows": [
        [
         "Alto",
         "9038"
        ],
        [
         "Bajo",
         "4698"
        ],
        [
         "Medio",
         "9325"
        ],
        [
         "Muy Alto",
         "5476"
        ]
       ],
       "shape": {
        "columns": 1,
        "rows": 4
       }
      },
      "text/plain": [
       "estrato_socioeconomico\n",
       "Alto        9038\n",
       "Bajo        4698\n",
       "Medio       9325\n",
       "Muy Alto    5476\n",
       "Name: id_persona, dtype: int64"
      ]
     },
     "execution_count": 26,
     "metadata": {},
     "output_type": "execute_result"
    }
   ],
   "source": [
    "estrato_usuarios= df_usuarios.groupby(['estrato_socioeconomico'])['id_persona'].count()\n",
    "estrato_usuarios"
   ]
  },
  {
   "cell_type": "code",
   "execution_count": 27,
   "id": "c3bb0f34",
   "metadata": {},
   "outputs": [
    {
     "data": {
      "image/png": "[encoded data removed]",
      "text/plain": [
       "<Figure size 2500x500 with 4 Axes>"
      ]
     },
     "metadata": {},
     "output_type": "display_data"
    }
   ],
   "source": [
    "#graficos representativos de los datos obtenidos del dataset limpio\n",
    "fig, (ax1, ax2, ax3, ax4) = plt.subplots(1, 4, figsize=(25, 5))\n",
    "#cantidad de usuarios por genero\n",
    "genero_usuarios.plot(kind='bar', color='#43FAAC', ax=ax1)\n",
    "ax1.set_title('Número de usuarios por genero')\n",
    "ax1.set_xlabel('')\n",
    "ax1.set_ylabel('# usuarios')\n",
    "ax1.grid(axis='y', linestyle=':')\n",
    "#usuarios por estrato\n",
    "estrato_usuarios.plot(kind='bar', color='#AFF2CF', ax=ax2)\n",
    "ax2.set_title('Cantidad de usurios por estrato')\n",
    "ax2.set_xlabel('')\n",
    "ax2.set_ylabel('# usuarios')\n",
    "ax2.grid(axis='y', linestyle=':')\n",
    "#frecuencia de visitas por estrato\n",
    "frecuencia_cal.plot(kind='bar', color='#A8FA43', ax=ax3)\n",
    "ax3.set_title('Frecuencia de visitas por estrato socioeconomico')\n",
    "ax3.set_xlabel('')\n",
    "ax3.set_ylabel('# visitas')\n",
    "ax3.grid(axis='y', linestyle=':')\n",
    "# gasto promedio por estrato\n",
    "gasto_cal.plot(kind='bar', color='#5EDEF2', ax=ax4)\n",
    "ax4.set_title('Frecuencia de visitas por estrato socioeconomico')\n",
    "ax4.set_xlabel('')\n",
    "ax4.set_ylabel('$ monto promedio')\n",
    "ax4.grid(axis='y', linestyle=':')\n",
    "plt.show()"
   ]
  },
  {
   "cell_type": "markdown",
   "id": "d0632b2a",
   "metadata": {},
   "source": [
    "A partir de la información visualizada en estos graficos podemos obtener esta información: \n",
    "\n",
    "- La cantidad de usuarios que se tienen por genero son practicamente iguales o muy cercanos\n",
    "- Del total de clientes en la base de datos la mayor cantidad de usuarios se encuentran en los estratos medio y alto\n",
    "- Los usuarios que registran el mayor numero de visitas están en los estratos alto y muy alto\n",
    "- Los usuarios que tienen un mayo gasto promedio son aquellos que se encuentran en los estratos alto y muy alto\n",
    "\n",
    "Como una conclusión previa valdría la pena enfocar la campaña prioritariamente en el universo de usuarios que se encuentran en los estratos medio y alto ya que son la mayor cantidad de usuarios el número de visitas y gasto promedio es considerable y podrían representar el mayor porcentaje de conversión."
   ]
  },
  {
   "cell_type": "code",
   "execution_count": 28,
   "id": "c3688a1e",
   "metadata": {},
   "outputs": [],
   "source": [
    "#almacenamos en un CSV los resultados después del procesamiento\n",
    "df_usuarios.to_csv('usuarios_datos_limpios')"
   ]
  }
 ],
 "metadata": {
  "kernelspec": {
   "display_name": "Python 3",
   "language": "python",
   "name": "python3"
  },
  "language_info": {
   "codemirror_mode": {
    "name": "ipython",
    "version": 3
   },
   "file_extension": ".py",
   "mimetype": "text/x-python",
   "name": "python",
   "nbconvert_exporter": "python",
   "pygments_lexer": "ipython3",
   "version": "3.11.9"
  }
 },
 "nbformat": 4,
 "nbformat_minor": 5
}
